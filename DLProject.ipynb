{
  "nbformat": 4,
  "nbformat_minor": 0,
  "metadata": {
    "colab": {
      "provenance": [],
      "gpuType": "T4"
    },
    "kernelspec": {
      "name": "python3",
      "display_name": "Python 3"
    },
    "language_info": {
      "name": "python"
    },
    "accelerator": "GPU"
  },
  "cells": [
    {
      "cell_type": "code",
      "execution_count": null,
      "metadata": {
        "colab": {
          "base_uri": "https://localhost:8080/"
        },
        "id": "0BCkNwJg8slZ",
        "outputId": "ac818a25-5d6d-49f0-a51d-22de74635518"
      },
      "outputs": [
        {
          "output_type": "stream",
          "name": "stderr",
          "text": [
            "Downloading...\n",
            "From (original): https://drive.google.com/uc?id=1FdXPjxxouKwnRzDDHsDu73hXnTzIInI2\n",
            "From (redirected): https://drive.google.com/uc?id=1FdXPjxxouKwnRzDDHsDu73hXnTzIInI2&confirm=t&uuid=9b02bed0-b6cb-46ed-86c2-741fb2749b0f\n",
            "To: /content/satellitedatasetdl.zip\n",
            "100%|██████████| 61.2M/61.2M [00:02<00:00, 30.0MB/s]\n"
          ]
        }
      ],
      "source": [
        "import gdown\n",
        "import zipfile\n",
        "import os\n",
        "\n",
        "file_id = '1FdXPjxxouKwnRzDDHsDu73hXnTzIInI2'\n",
        "output_zip = \"satellitedatasetdl.zip\"\n",
        "gdown.download(f\"https://drive.google.com/uc?id={file_id}\", output_zip, quiet=False)\n",
        "\n",
        "with zipfile.ZipFile(output_zip, 'r') as zip_ref:\n",
        "    zip_ref.extractall(\"satellitedatasetdl\")\n",
        "os.remove(output_zip)"
      ]
    },
    {
      "cell_type": "code",
      "source": [
        "dataset_path = os.listdir(\"/content/satellitedatasetdl/satellitedatasetdl\")\n",
        "print(dataset_path)"
      ],
      "metadata": {
        "colab": {
          "base_uri": "https://localhost:8080/"
        },
        "id": "1bY8YyII9d8s",
        "outputId": "f2175691-043d-4d11-bee8-17d3c9d053b4"
      },
      "execution_count": null,
      "outputs": [
        {
          "output_type": "stream",
          "name": "stdout",
          "text": [
            "['.DS_Store', 'PermanentCrop', 'River', 'Pasture', 'Forest', 'AnnualCrop', 'HerbaceousVegetation']\n"
          ]
        }
      ]
    },
    {
      "cell_type": "code",
      "source": [
        "import pandas as pd\n",
        "dataset_directory = \"/content/satellitedatasetdl/satellitedatasetdl\"\n",
        "\n",
        "class_directories = [d for d in os.listdir(dataset_directory) if os.path.isdir(os.path.join(dataset_directory, d))]\n",
        "\n",
        "data = []\n",
        "\n",
        "for class_name, class_directory in enumerate(class_directories):\n",
        "    class_directory_path = os.path.join(dataset_directory, class_directory)\n",
        "    class_files = os.listdir(class_directory_path)\n",
        "    data.extend([(class_directory, os.path.join(class_directory_path, filename)) for filename in class_files])\n",
        "df = pd.DataFrame(data, columns=['label', 'image_path'])\n",
        "\n",
        "print(df)"
      ],
      "metadata": {
        "colab": {
          "base_uri": "https://localhost:8080/"
        },
        "id": "V-Rj4n579hqf",
        "outputId": "0e658f68-2d41-45d2-f45c-20195dd06560"
      },
      "execution_count": null,
      "outputs": [
        {
          "output_type": "stream",
          "name": "stdout",
          "text": [
            "                      label                                         image_path\n",
            "0             PermanentCrop  /content/satellitedatasetdl/satellitedatasetdl...\n",
            "1             PermanentCrop  /content/satellitedatasetdl/satellitedatasetdl...\n",
            "2             PermanentCrop  /content/satellitedatasetdl/satellitedatasetdl...\n",
            "3             PermanentCrop  /content/satellitedatasetdl/satellitedatasetdl...\n",
            "4             PermanentCrop  /content/satellitedatasetdl/satellitedatasetdl...\n",
            "...                     ...                                                ...\n",
            "15995  HerbaceousVegetation  /content/satellitedatasetdl/satellitedatasetdl...\n",
            "15996  HerbaceousVegetation  /content/satellitedatasetdl/satellitedatasetdl...\n",
            "15997  HerbaceousVegetation  /content/satellitedatasetdl/satellitedatasetdl...\n",
            "15998  HerbaceousVegetation  /content/satellitedatasetdl/satellitedatasetdl...\n",
            "15999  HerbaceousVegetation  /content/satellitedatasetdl/satellitedatasetdl...\n",
            "\n",
            "[16000 rows x 2 columns]\n"
          ]
        }
      ]
    },
    {
      "cell_type": "code",
      "source": [
        "# Group the DataFrame by 'label' and count the number of occurrences\n",
        "image_counts = df.groupby('label').size()\n",
        "print(\"Number of images in each category:\")\n",
        "print(image_counts)\n",
        "total_images = image_counts.sum()\n",
        "print(\"\\nTotal number of images:\", total_images)"
      ],
      "metadata": {
        "colab": {
          "base_uri": "https://localhost:8080/"
        },
        "id": "SoJrQxwo9pkv",
        "outputId": "f3431aff-3bd1-4804-fc9a-8f5bbb55f9da"
      },
      "execution_count": null,
      "outputs": [
        {
          "output_type": "stream",
          "name": "stdout",
          "text": [
            "Number of images in each category:\n",
            "label\n",
            "AnnualCrop              3000\n",
            "Forest                  3000\n",
            "HerbaceousVegetation    3000\n",
            "Pasture                 2000\n",
            "PermanentCrop           2500\n",
            "River                   2500\n",
            "dtype: int64\n",
            "\n",
            "Total number of images: 16000\n"
          ]
        }
      ]
    },
    {
      "cell_type": "code",
      "source": [
        "from PIL import Image\n",
        "import numpy as np\n",
        "\n",
        "output_directory = \"/content/resized_images\"\n",
        "\n",
        "os.makedirs(output_directory, exist_ok=True)\n",
        "\n",
        "# Function to resize and normalize an image\n",
        "def resize_and_normalize_image(image_path, output_path, target_size=(224, 224)):\n",
        "    try:\n",
        "        with Image.open(image_path) as img:\n",
        "            resized_img = img.resize(target_size)\n",
        "            normalized_img = np.array(resized_img) / 255.0\n",
        "            Image.fromarray((normalized_img * 255).astype(np.uint8)).save(output_path)\n",
        "    except Exception as e:\n",
        "        print(f\"Error resizing image {image_path}: {e}\")\n",
        "\n",
        "for root, _, files in os.walk(dataset_directory):\n",
        "    for file in files:\n",
        "        if file.endswith(\".jpg\") or file.endswith(\".png\"):\n",
        "            image_path = os.path.join(root, file)\n",
        "            output_path = os.path.join(output_directory, file)\n",
        "            resize_and_normalize_image(image_path, output_path)\n",
        "\n",
        "print(\"Resizing and normalization complete.\")"
      ],
      "metadata": {
        "colab": {
          "base_uri": "https://localhost:8080/"
        },
        "id": "uVj8O8e39uW8",
        "outputId": "2e35b410-d2ec-4c68-acf2-bcfe35926771"
      },
      "execution_count": null,
      "outputs": [
        {
          "output_type": "stream",
          "name": "stdout",
          "text": [
            "Resizing and normalization complete.\n"
          ]
        }
      ]
    },
    {
      "cell_type": "code",
      "source": [
        "from sklearn.preprocessing import LabelEncoder, OneHotEncoder\n",
        "\n",
        "class_labels = []\n",
        "\n",
        "for class_label, class_directory in enumerate(os.listdir(dataset_directory)):\n",
        "    class_directory_path = os.path.join(dataset_directory, class_directory)\n",
        "    if os.path.isdir(class_directory_path):\n",
        "        class_labels += [class_label] * len(os.listdir(class_directory_path))\n",
        "\n",
        "class_labels = np.array(class_labels)\n",
        "\n",
        "# Instantiate LabelEncoder\n",
        "label_encoder = LabelEncoder()\n",
        "encoded_labels = label_encoder.fit_transform(class_labels)\n",
        "print(\"Mapping of class names to encoded labels:\")\n",
        "label_mapping = dict(zip(label_encoder.classes_, label_encoder.transform(label_encoder.classes_)))\n",
        "print(label_mapping)\n",
        "\n",
        "# Convert the encoded labels to one-hot encoding\n",
        "onehot_encoder = OneHotEncoder(sparse=False)\n",
        "onehot_labels = onehot_encoder.fit_transform(encoded_labels.reshape(-1, 1))\n",
        "\n",
        "print(\"\\nShape of one-hot encoded labels:\", onehot_labels.shape)"
      ],
      "metadata": {
        "colab": {
          "base_uri": "https://localhost:8080/"
        },
        "id": "P3eBfWCT98l7",
        "outputId": "0a319863-5f2d-45ce-f797-dc130278224d"
      },
      "execution_count": null,
      "outputs": [
        {
          "output_type": "stream",
          "name": "stdout",
          "text": [
            "Mapping of class names to encoded labels:\n",
            "{1: 0, 2: 1, 3: 2, 4: 3, 5: 4, 6: 5}\n",
            "\n",
            "Shape of one-hot encoded labels: (16000, 6)\n"
          ]
        },
        {
          "output_type": "stream",
          "name": "stderr",
          "text": [
            "/usr/local/lib/python3.10/dist-packages/sklearn/preprocessing/_encoders.py:868: FutureWarning: `sparse` was renamed to `sparse_output` in version 1.2 and will be removed in 1.4. `sparse_output` is ignored unless you leave `sparse` to its default value.\n",
            "  warnings.warn(\n"
          ]
        }
      ]
    },
    {
      "cell_type": "code",
      "source": [
        "from sklearn.compose import ColumnTransformer\n",
        "\n",
        "dataset_directory = \"/content/satellitedatasetdl/satellitedatasetdl\"\n",
        "\n",
        "class_labels = []\n",
        "\n",
        "for class_label, class_directory in enumerate(os.listdir(dataset_directory)):\n",
        "    class_directory_path = os.path.join(dataset_directory, class_directory)\n",
        "    if os.path.isdir(class_directory_path):\n",
        "        class_labels += [class_label] * len(os.listdir(class_directory_path))\n",
        "\n",
        "# Convert the list of class labels to numpy array\n",
        "y = np.array(class_labels).reshape(-1, 1)\n",
        "\n",
        "label_encoder = LabelEncoder()\n",
        "encoded_labels = label_encoder.fit_transform(y)\n",
        "onehot_encoder = OneHotEncoder()\n",
        "ct = ColumnTransformer([('my_ohe', OneHotEncoder(), [0])], remainder='passthrough')\n",
        "Y = ct.fit_transform(y)\n",
        "\n",
        "print(Y[:5])\n",
        "print(Y[35:])"
      ],
      "metadata": {
        "colab": {
          "base_uri": "https://localhost:8080/"
        },
        "id": "NhzobAWe-Dwx",
        "outputId": "11350c8c-932d-4de1-bea1-1af4756f0fe9"
      },
      "execution_count": null,
      "outputs": [
        {
          "output_type": "stream",
          "name": "stdout",
          "text": [
            "  (0, 0)\t1.0\n",
            "  (1, 0)\t1.0\n",
            "  (2, 0)\t1.0\n",
            "  (3, 0)\t1.0\n",
            "  (4, 0)\t1.0\n",
            "  (0, 0)\t1.0\n",
            "  (1, 0)\t1.0\n",
            "  (2, 0)\t1.0\n",
            "  (3, 0)\t1.0\n",
            "  (4, 0)\t1.0\n",
            "  (5, 0)\t1.0\n",
            "  (6, 0)\t1.0\n",
            "  (7, 0)\t1.0\n",
            "  (8, 0)\t1.0\n",
            "  (9, 0)\t1.0\n",
            "  (10, 0)\t1.0\n",
            "  (11, 0)\t1.0\n",
            "  (12, 0)\t1.0\n",
            "  (13, 0)\t1.0\n",
            "  (14, 0)\t1.0\n",
            "  (15, 0)\t1.0\n",
            "  (16, 0)\t1.0\n",
            "  (17, 0)\t1.0\n",
            "  (18, 0)\t1.0\n",
            "  (19, 0)\t1.0\n",
            "  (20, 0)\t1.0\n",
            "  (21, 0)\t1.0\n",
            "  (22, 0)\t1.0\n",
            "  (23, 0)\t1.0\n",
            "  (24, 0)\t1.0\n",
            "  :\t:\n",
            "  (15940, 5)\t1.0\n",
            "  (15941, 5)\t1.0\n",
            "  (15942, 5)\t1.0\n",
            "  (15943, 5)\t1.0\n",
            "  (15944, 5)\t1.0\n",
            "  (15945, 5)\t1.0\n",
            "  (15946, 5)\t1.0\n",
            "  (15947, 5)\t1.0\n",
            "  (15948, 5)\t1.0\n",
            "  (15949, 5)\t1.0\n",
            "  (15950, 5)\t1.0\n",
            "  (15951, 5)\t1.0\n",
            "  (15952, 5)\t1.0\n",
            "  (15953, 5)\t1.0\n",
            "  (15954, 5)\t1.0\n",
            "  (15955, 5)\t1.0\n",
            "  (15956, 5)\t1.0\n",
            "  (15957, 5)\t1.0\n",
            "  (15958, 5)\t1.0\n",
            "  (15959, 5)\t1.0\n",
            "  (15960, 5)\t1.0\n",
            "  (15961, 5)\t1.0\n",
            "  (15962, 5)\t1.0\n",
            "  (15963, 5)\t1.0\n",
            "  (15964, 5)\t1.0\n"
          ]
        },
        {
          "output_type": "stream",
          "name": "stderr",
          "text": [
            "/usr/local/lib/python3.10/dist-packages/sklearn/preprocessing/_label.py:116: DataConversionWarning: A column-vector y was passed when a 1d array was expected. Please change the shape of y to (n_samples, ), for example using ravel().\n",
            "  y = column_or_1d(y, warn=True)\n"
          ]
        }
      ]
    },
    {
      "cell_type": "code",
      "source": [
        "pip install efficientnet"
      ],
      "metadata": {
        "colab": {
          "base_uri": "https://localhost:8080/"
        },
        "id": "2S2MW1cf-Ml1",
        "outputId": "402823db-b8d9-410b-d4cb-bfada509127c"
      },
      "execution_count": null,
      "outputs": [
        {
          "output_type": "stream",
          "name": "stdout",
          "text": [
            "Collecting efficientnet\n",
            "  Downloading efficientnet-1.1.1-py3-none-any.whl (18 kB)\n",
            "Collecting keras-applications<=1.0.8,>=1.0.7 (from efficientnet)\n",
            "  Downloading Keras_Applications-1.0.8-py3-none-any.whl (50 kB)\n",
            "\u001b[?25l     \u001b[90m━━━━━━━━━━━━━━━━━━━━━━━━━━━━━━━━━━━━━━━━\u001b[0m \u001b[32m0.0/50.7 kB\u001b[0m \u001b[31m?\u001b[0m eta \u001b[36m-:--:--\u001b[0m\r\u001b[2K     \u001b[90m━━━━━━━━━━━━━━━━━━━━━━━━━━━━━━━━━━━━━━━━\u001b[0m \u001b[32m50.7/50.7 kB\u001b[0m \u001b[31m2.5 MB/s\u001b[0m eta \u001b[36m0:00:00\u001b[0m\n",
            "\u001b[?25hRequirement already satisfied: scikit-image in /usr/local/lib/python3.10/dist-packages (from efficientnet) (0.19.3)\n",
            "Requirement already satisfied: numpy>=1.9.1 in /usr/local/lib/python3.10/dist-packages (from keras-applications<=1.0.8,>=1.0.7->efficientnet) (1.25.2)\n",
            "Requirement already satisfied: h5py in /usr/local/lib/python3.10/dist-packages (from keras-applications<=1.0.8,>=1.0.7->efficientnet) (3.9.0)\n",
            "Requirement already satisfied: scipy>=1.4.1 in /usr/local/lib/python3.10/dist-packages (from scikit-image->efficientnet) (1.11.4)\n",
            "Requirement already satisfied: networkx>=2.2 in /usr/local/lib/python3.10/dist-packages (from scikit-image->efficientnet) (3.3)\n",
            "Requirement already satisfied: pillow!=7.1.0,!=7.1.1,!=8.3.0,>=6.1.0 in /usr/local/lib/python3.10/dist-packages (from scikit-image->efficientnet) (9.4.0)\n",
            "Requirement already satisfied: imageio>=2.4.1 in /usr/local/lib/python3.10/dist-packages (from scikit-image->efficientnet) (2.31.6)\n",
            "Requirement already satisfied: tifffile>=2019.7.26 in /usr/local/lib/python3.10/dist-packages (from scikit-image->efficientnet) (2024.2.12)\n",
            "Requirement already satisfied: PyWavelets>=1.1.1 in /usr/local/lib/python3.10/dist-packages (from scikit-image->efficientnet) (1.6.0)\n",
            "Requirement already satisfied: packaging>=20.0 in /usr/local/lib/python3.10/dist-packages (from scikit-image->efficientnet) (24.0)\n",
            "Installing collected packages: keras-applications, efficientnet\n",
            "Successfully installed efficientnet-1.1.1 keras-applications-1.0.8\n"
          ]
        }
      ]
    },
    {
      "cell_type": "code",
      "source": [
        "# Create data generator with data augmentation for training\n",
        "from tensorflow.keras.preprocessing.image import ImageDataGenerator\n",
        "import os\n",
        "\n",
        "train_dir = \"/content/satellitedatasetdl/satellitedatasetdl\"\n",
        "\n",
        "img_size = (150, 150)\n",
        "batch_size = 32\n",
        "\n",
        "train_datagen = ImageDataGenerator(\n",
        "    rescale=1./255,\n",
        "    rotation_range=40,\n",
        "    width_shift_range=0.2,\n",
        "    height_shift_range=0.2,\n",
        "    shear_range=0.2,\n",
        "    zoom_range=0.2,\n",
        "    horizontal_flip=True,\n",
        "    fill_mode='nearest'\n",
        ")\n",
        "\n",
        "train_generator = train_datagen.flow_from_directory(\n",
        "    train_dir,\n",
        "    target_size=img_size,\n",
        "    batch_size=batch_size,\n",
        "    class_mode='categorical'\n",
        ")"
      ],
      "metadata": {
        "colab": {
          "base_uri": "https://localhost:8080/"
        },
        "id": "1FvIHIyt-TRN",
        "outputId": "84cdd294-2ce6-4c36-ec25-c82f0f0f2deb"
      },
      "execution_count": null,
      "outputs": [
        {
          "output_type": "stream",
          "name": "stdout",
          "text": [
            "Found 16000 images belonging to 6 classes.\n"
          ]
        }
      ]
    },
    {
      "cell_type": "code",
      "source": [
        "#Model training and evaluation\n",
        "from tensorflow.keras.applications import DenseNet121, EfficientNetB0, VGG16, InceptionV3\n",
        "from tensorflow.keras.models import Sequential\n",
        "from tensorflow.keras.layers import Dense, Flatten\n",
        "from tensorflow.keras.optimizers import Adam\n",
        "\n",
        "num_classes = len(train_generator.class_indices)\n",
        "\n",
        "# Create DenseNet model\n",
        "densenet_model = Sequential([\n",
        "    DenseNet121(include_top=False, input_shape=(150, 150, 3)),\n",
        "    Flatten(),\n",
        "    Dense(num_classes, activation='softmax')\n",
        "])\n",
        "\n",
        "# Create EfficientNet model\n",
        "efficientnet_model = Sequential([\n",
        "    EfficientNetB0(include_top=False, input_shape=(150, 150, 3)),\n",
        "    Flatten(),\n",
        "    Dense(num_classes, activation='softmax')\n",
        "])\n",
        "\n",
        "# Create VGG16 model\n",
        "vgg16_model = Sequential([\n",
        "    VGG16(include_top=False, input_shape=(150, 150, 3)),\n",
        "    Flatten(),\n",
        "    Dense(num_classes, activation='softmax')\n",
        "])\n",
        "\n",
        "# Create InceptionV3 model\n",
        "inceptionv3_model = Sequential([\n",
        "    InceptionV3(include_top=False, input_shape=(150, 150, 3)),\n",
        "    Flatten(),\n",
        "    Dense(num_classes, activation='softmax')\n",
        "])\n",
        "\n",
        "# Compile models\n",
        "models = [densenet_model, efficientnet_model, vgg16_model, inceptionv3_model]\n",
        "model_names = [\"DenseNet121\", \"EfficientNetB0\", \"VGG16\", \"InceptionV3\"]\n",
        "\n",
        "for model, name in zip(models, model_names):\n",
        "    model.compile(optimizer=Adam(), loss='categorical_crossentropy', metrics=['accuracy'])\n",
        "\n",
        "# Train models\n",
        "epochs = 5\n",
        "for model, name in zip(models, model_names):\n",
        "    print(f\"Training {name}...\")\n",
        "    model.fit(\n",
        "        train_generator,\n",
        "        steps_per_epoch=train_generator.samples // batch_size,\n",
        "        epochs=epochs\n",
        "    )\n",
        "    print(f\"{name} training completed.\\n\")"
      ],
      "metadata": {
        "colab": {
          "base_uri": "https://localhost:8080/"
        },
        "id": "ocw9Tr8v-aFI",
        "outputId": "ad408083-05d2-4c8b-8cc5-3bce336d08fb"
      },
      "execution_count": null,
      "outputs": [
        {
          "output_type": "stream",
          "name": "stdout",
          "text": [
            "Downloading data from https://storage.googleapis.com/tensorflow/keras-applications/densenet/densenet121_weights_tf_dim_ordering_tf_kernels_notop.h5\n",
            "29084464/29084464 [==============================] - 0s 0us/step\n",
            "Downloading data from https://storage.googleapis.com/keras-applications/efficientnetb0_notop.h5\n",
            "16705208/16705208 [==============================] - 0s 0us/step\n",
            "Downloading data from https://storage.googleapis.com/tensorflow/keras-applications/vgg16/vgg16_weights_tf_dim_ordering_tf_kernels_notop.h5\n",
            "58889256/58889256 [==============================] - 0s 0us/step\n",
            "Downloading data from https://storage.googleapis.com/tensorflow/keras-applications/inception_v3/inception_v3_weights_tf_dim_ordering_tf_kernels_notop.h5\n",
            "87910968/87910968 [==============================] - 1s 0us/step\n",
            "Training DenseNet121...\n",
            "Epoch 1/5\n",
            "500/500 [==============================] - 256s 339ms/step - loss: 1.3877 - accuracy: 0.7032\n",
            "Epoch 2/5\n",
            "500/500 [==============================] - 172s 345ms/step - loss: 1.5179 - accuracy: 0.6608\n",
            "Epoch 3/5\n",
            "500/500 [==============================] - 170s 339ms/step - loss: 0.9471 - accuracy: 0.7216\n",
            "Epoch 4/5\n",
            "500/500 [==============================] - 170s 339ms/step - loss: 0.7047 - accuracy: 0.7666\n",
            "Epoch 5/5\n",
            "500/500 [==============================] - 158s 317ms/step - loss: 0.5967 - accuracy: 0.7926\n",
            "DenseNet121 training completed.\n",
            "\n",
            "Training EfficientNetB0...\n",
            "Epoch 1/5\n",
            "500/500 [==============================] - 176s 270ms/step - loss: 0.7601 - accuracy: 0.8153\n",
            "Epoch 2/5\n",
            "500/500 [==============================] - 136s 272ms/step - loss: 0.4567 - accuracy: 0.8864\n",
            "Epoch 3/5\n",
            "500/500 [==============================] - 138s 275ms/step - loss: 0.4220 - accuracy: 0.9003\n",
            "Epoch 4/5\n",
            "500/500 [==============================] - 134s 267ms/step - loss: 0.3015 - accuracy: 0.9207\n",
            "Epoch 5/5\n",
            "500/500 [==============================] - 138s 275ms/step - loss: 0.2635 - accuracy: 0.9287\n",
            "EfficientNetB0 training completed.\n",
            "\n",
            "Training VGG16...\n",
            "Epoch 1/5\n",
            "500/500 [==============================] - 158s 285ms/step - loss: 1.3056 - accuracy: 0.4425\n",
            "Epoch 2/5\n",
            "500/500 [==============================] - 143s 286ms/step - loss: 0.9228 - accuracy: 0.6369\n",
            "Epoch 3/5\n",
            "500/500 [==============================] - 153s 306ms/step - loss: 0.8461 - accuracy: 0.6719\n",
            "Epoch 4/5\n",
            "500/500 [==============================] - 142s 285ms/step - loss: 0.7608 - accuracy: 0.7127\n",
            "Epoch 5/5\n",
            "500/500 [==============================] - 148s 295ms/step - loss: 0.6877 - accuracy: 0.7458\n",
            "VGG16 training completed.\n",
            "\n",
            "Training InceptionV3...\n",
            "Epoch 1/5\n",
            "500/500 [==============================] - 161s 244ms/step - loss: 0.9439 - accuracy: 0.7774\n",
            "Epoch 2/5\n",
            "500/500 [==============================] - 124s 247ms/step - loss: 0.5481 - accuracy: 0.8543\n",
            "Epoch 3/5\n",
            "500/500 [==============================] - 130s 261ms/step - loss: 0.3866 - accuracy: 0.8776\n",
            "Epoch 4/5\n",
            "500/500 [==============================] - 129s 257ms/step - loss: 0.3033 - accuracy: 0.8981\n",
            "Epoch 5/5\n",
            "500/500 [==============================] - 129s 259ms/step - loss: 0.3392 - accuracy: 0.8945\n",
            "InceptionV3 training completed.\n",
            "\n"
          ]
        }
      ]
    },
    {
      "cell_type": "code",
      "source": [
        "from tabulate import tabulate\n",
        "accuracy_results = {\n",
        "    \"Model\": model_names,\n",
        "    \"Accuracy\": [0.7926, 0.9287, 0.7458, 0.8945]\n",
        "}\n",
        "\n",
        "print(tabulate(accuracy_results, headers='keys', tablefmt='grid'))"
      ],
      "metadata": {
        "colab": {
          "base_uri": "https://localhost:8080/"
        },
        "id": "aiCWqtPILdFp",
        "outputId": "d6dc304a-8c7a-482e-b7fb-88c2cd4ef8ea"
      },
      "execution_count": null,
      "outputs": [
        {
          "output_type": "stream",
          "name": "stdout",
          "text": [
            "+----------------+------------+\n",
            "| Model          |   Accuracy |\n",
            "+================+============+\n",
            "| DenseNet121    |     0.7926 |\n",
            "+----------------+------------+\n",
            "| EfficientNetB0 |     0.9287 |\n",
            "+----------------+------------+\n",
            "| VGG16          |     0.7458 |\n",
            "+----------------+------------+\n",
            "| InceptionV3    |     0.8945 |\n",
            "+----------------+------------+\n"
          ]
        }
      ]
    },
    {
      "cell_type": "code",
      "source": [
        "import matplotlib.pyplot as plt\n",
        "\n",
        "model_names = accuracy_results[\"Model\"]\n",
        "accuracies = accuracy_results[\"Accuracy\"]\n",
        "\n",
        "plt.figure(figsize=(10, 6))\n",
        "plt.bar(model_names, accuracies, color=['blue', 'green', 'red', 'orange'])\n",
        "plt.xlabel('Model')\n",
        "plt.ylabel('Accuracy')\n",
        "plt.title('Accuracy of Different Models')\n",
        "plt.ylim(0, 1)\n",
        "plt.grid(axis='y', linestyle='--', alpha=0.7)\n",
        "plt.xticks(rotation=45)\n",
        "plt.tight_layout()\n",
        "plt.show()"
      ],
      "metadata": {
        "colab": {
          "base_uri": "https://localhost:8080/",
          "height": 607
        },
        "id": "eCYUyJLxMJwN",
        "outputId": "3dd6cfc6-cde1-475f-fa44-a58208a0a1c4"
      },
      "execution_count": null,
      "outputs": [
        {
          "output_type": "display_data",
          "data": {
            "text/plain": [
              "<Figure size 1000x600 with 1 Axes>"
            ],
            "image/png": "[encoded data removed]"
          },
          "metadata": {}
        }
      ]
    },
    {
      "cell_type": "markdown",
      "source": [
        "Dataset Link : https://drive.google.com/file/d/1FdXPjxxouKwnRzDDHsDu73hXnTzIInI2/view?usp=drive_link"
      ],
      "metadata": {
        "id": "qPolSL09jdav"
      }
    }
  ]
}